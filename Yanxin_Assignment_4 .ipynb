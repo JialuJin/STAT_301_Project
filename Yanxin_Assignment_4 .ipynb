{
 "cells": [
  {
   "cell_type": "code",
   "execution_count": 1,
   "id": "6cd2a2f0-cf53-47d2-8042-9b86e52c3a78",
   "metadata": {
    "tags": []
   },
   "outputs": [
    {
     "name": "stderr",
     "output_type": "stream",
     "text": [
      "\n",
      "Attaching package: ‘dplyr’\n",
      "\n",
      "\n",
      "The following objects are masked from ‘package:stats’:\n",
      "\n",
      "    filter, lag\n",
      "\n",
      "\n",
      "The following objects are masked from ‘package:base’:\n",
      "\n",
      "    intersect, setdiff, setequal, union\n",
      "\n",
      "\n",
      "Loading required package: ggplot2\n",
      "\n",
      "Registered S3 method overwritten by 'GGally':\n",
      "  method from   \n",
      "  +.gg   ggplot2\n",
      "\n",
      "── \u001b[1mAttaching packages\u001b[22m ────────────────────────────────────── tidymodels 1.1.1 ──\n",
      "\n",
      "\u001b[32m✔\u001b[39m \u001b[34mbroom       \u001b[39m 1.0.5     \u001b[32m✔\u001b[39m \u001b[34mrsample     \u001b[39m 1.2.0\n",
      "\u001b[32m✔\u001b[39m \u001b[34mdials       \u001b[39m 1.2.0     \u001b[32m✔\u001b[39m \u001b[34mtibble      \u001b[39m 3.2.1\n",
      "\u001b[32m✔\u001b[39m \u001b[34minfer       \u001b[39m 1.0.5     \u001b[32m✔\u001b[39m \u001b[34mtidyr       \u001b[39m 1.3.0\n",
      "\u001b[32m✔\u001b[39m \u001b[34mmodeldata   \u001b[39m 1.2.0     \u001b[32m✔\u001b[39m \u001b[34mtune        \u001b[39m 1.1.2\n",
      "\u001b[32m✔\u001b[39m \u001b[34mparsnip     \u001b[39m 1.1.1     \u001b[32m✔\u001b[39m \u001b[34mworkflows   \u001b[39m 1.1.3\n",
      "\u001b[32m✔\u001b[39m \u001b[34mpurrr       \u001b[39m 1.0.2     \u001b[32m✔\u001b[39m \u001b[34mworkflowsets\u001b[39m 1.0.1\n",
      "\u001b[32m✔\u001b[39m \u001b[34mrecipes     \u001b[39m 1.0.8     \u001b[32m✔\u001b[39m \u001b[34myardstick   \u001b[39m 1.2.0\n",
      "\n",
      "── \u001b[1mConflicts\u001b[22m ───────────────────────────────────────── tidymodels_conflicts() ──\n",
      "\u001b[31m✖\u001b[39m \u001b[34mpurrr\u001b[39m::\u001b[32mdiscard()\u001b[39m masks \u001b[34mscales\u001b[39m::discard()\n",
      "\u001b[31m✖\u001b[39m \u001b[34mdplyr\u001b[39m::\u001b[32mfilter()\u001b[39m  masks \u001b[34mstats\u001b[39m::filter()\n",
      "\u001b[31m✖\u001b[39m \u001b[34mdplyr\u001b[39m::\u001b[32mlag()\u001b[39m     masks \u001b[34mstats\u001b[39m::lag()\n",
      "\u001b[31m✖\u001b[39m \u001b[34mrecipes\u001b[39m::\u001b[32mstep()\u001b[39m  masks \u001b[34mstats\u001b[39m::step()\n",
      "\u001b[34m•\u001b[39m Search for functions across packages at \u001b[32mhttps://www.tidymodels.org/find/\u001b[39m\n",
      "\n",
      "Updating HTML index of packages in '.Library'\n",
      "\n",
      "Making 'packages.html' ...\n",
      " done\n",
      "\n",
      "Thank you for using fastDummies!\n",
      "\n",
      "To acknowledge our work, please cite the package:\n",
      "\n",
      "Kaplan, J. & Schlegel, B. (2023). fastDummies: Fast Creation of Dummy (Binary) Columns and Rows from Categorical Variables. Version 1.7.1. URL: https://github.com/jacobkap/fastDummies, https://jacobkap.github.io/fastDummies/.\n",
      "\n"
     ]
    }
   ],
   "source": [
    "library(repr)\n",
    "library(dplyr)\n",
    "library(GGally)\n",
    "library(tidymodels)\n",
    "library(leaps)\n",
    "install.packages(\"fastDummies\")\n",
    "library(fastDummies)\n"
   ]
  },
  {
   "cell_type": "markdown",
   "id": "5111a965-6def-443a-add6-c1a0cc95f096",
   "metadata": {
    "tags": []
   },
   "source": [
    "## Introduction:\n",
    "This dataset contains the count of rental bikes between the years 2011 and 2012 in Washington, D.C., USA for 2 years (2011-2012). This data is from the UCI Machine Learning Repository and collected by the Capital bike share system. There are 731 rows and 15 columns in our data. Bike-sharing system has a important role in traffic, environmental and health issues. Based on these data, we can also detect most of important events in the city. \n",
    "\n",
    "link to the source of dataset: https://archive.ics.uci.edu/dataset/275/bike+sharing+dataset <br>\n",
    "link to the dataset on github: https://github.com/Yuji03b/toy_ds_project/blob/main/day.csv\n",
    "\n",
    "## 1. Research Question\n",
    "\n",
    "We want to investigate that, to what extent number of registered users of the bike-share system relates to a set of variables inculding feeling temperature, seasons, workingday and wind speed. We will focus on inference and see how the changes in these variables will affect the number of registered users of the bike-sharing system. By exploring pattern of the registered users, the result can aid in decision-making related to resource allocation, budget planning, and infrastructure development. "
   ]
  },
  {
   "cell_type": "code",
   "execution_count": 2,
   "id": "8ee496b6-ff76-4c2f-bffd-83ab39f83c64",
   "metadata": {
    "tags": []
   },
   "outputs": [],
   "source": [
    "bike_dat <- read.csv(\"https://raw.githubusercontent.com/Yuji03b/toy_ds_project/main/day.csv\", row.names = 1, stringsAsFactors= TRUE)"
   ]
  },
  {
   "cell_type": "markdown",
   "id": "0cabf6a6-850d-46c6-8fd3-4d1a1a00f8d1",
   "metadata": {},
   "source": [
    "## 2. The description of variables \n",
    "*The dataset contains 731 rows and 15 columns, where each column represents a distinct variable. Among these variables, `Registered` serves as the response variable while `atemp, season, weekday `and `windspeed` are the explanatory variables. Also, there are no missing values in the dataset.*\n",
    "\n",
    "- **dteday** [factor variable] : date\n",
    "- **season** [integer variable]: season (1:springer, 2:summer, 3:fall, 4:winter)\n",
    "- **yr** [integer variable]: year (0: 2011, 1:2012)\n",
    "- **mnth** [integer variable]: month ( 1 to 12)\n",
    "- **hr** [integer variable] : hour (0 to 23)\n",
    "- **holiday** [integer variable]: weather day is holiday or not (extracted from http://dchr.dc.gov/page/holiday-schedule)\n",
    "- **weekday** [integer variable]: day of the week\n",
    "- **workingday** [integer variable]: if day is neither weekend nor holiday is 1, otherwise is 0.\n",
    "- **weathersit** [integer variable] : \n",
    "\t - 1: Clear, Few clouds, Partly cloudy, Partly cloudy\n",
    "\t - 2: Mist + Cloudy, Mist + Broken clouds, Mist + Few clouds, Mist\n",
    "\t- 3: Light Snow, Light Rain + Thunderstorm + Scattered clouds, Light Rain + Scattered clouds\n",
    "\t- 4: Heavy Rain + Ice Pallets + Thunderstorm + Mist, Snow + Fog\n",
    "- **temp** [double variable]: Normalized temperature in Celsius. The values are divided to 41 (max)\n",
    "- **atemp** [double variable]: Normalized feeling temperature in Celsius. The values are divided to 50 (max)\n",
    "- **hum** [double variable]: Normalized humidity. The values are divided to 100 (max)\n",
    "- **windspeed** [double variable]: Normalized wind speed. The values are divided to 67 (max)\n",
    "- **casual** [integer variable]: count of casual users\n",
    "- **registered** [integer variable]: count of registered users\n",
    "- **cnt** [integer variable]: count of total rental bikes including both casual and registered"
   ]
  },
  {
   "cell_type": "markdown",
   "id": "ab30ef60-881e-4c8d-8c01-c1841cd8d2a9",
   "metadata": {},
   "source": [
    "## 3. Cleaning and Wrangling Data"
   ]
  },
  {
   "cell_type": "markdown",
   "id": "36a23c1e-a5df-430f-a2cc-c1c5946a3b92",
   "metadata": {},
   "source": [
    "`Step 1.` Some varibales will be rename to make them more descriptive.<br>\n",
    "`Step 2.` Remove the variables that are not relevant to our analysis from the dataset.<br>\n",
    "`Step 3.` All continuous variables have been scaled by \"max scaling\" method, ensuring that their values fall within the standardized range of 0 to 1. <br>\n",
    "`Step 4.`There might be certain highly correlated variables, such as  `temperature` and `feeling temperature`, as well as `number registered user` and `count of total rental bikes`. Thus, we will examine ther correlation and remove the variables that might caused multicollinearity or serve as confounding factors.<br>\n"
   ]
  },
  {
   "cell_type": "code",
   "execution_count": 3,
   "id": "aa862e75-aae1-4d73-90cc-a9f45fde5f4a",
   "metadata": {
    "tags": []
   },
   "outputs": [],
   "source": [
    "#step 1 rename the variables\n",
    "colnames(bike_dat)[3] <- \"year\" \n",
    "colnames(bike_dat)[10] <- \"feeling_temp\" \n",
    "colnames(bike_dat)[11] <- \"humidity\" \n",
    "colnames(bike_dat)[14] <- \"registered_users\" \n",
    "colnames(bike_dat)[15] <- \"total_rental_bike\" "
   ]
  },
  {
   "cell_type": "code",
   "execution_count": 4,
   "id": "7c2a34a0-cab5-4adb-a7ac-3f20893ccb67",
   "metadata": {
    "tags": []
   },
   "outputs": [
    {
     "data": {
      "text/html": [
       "<table class=\"dataframe\">\n",
       "<caption>A data.frame: 6 × 12</caption>\n",
       "<thead>\n",
       "\t<tr><th></th><th scope=col>season</th><th scope=col>year</th><th scope=col>holiday</th><th scope=col>weekday</th><th scope=col>workingday</th><th scope=col>weathersit</th><th scope=col>temp</th><th scope=col>feeling_temp</th><th scope=col>humidity</th><th scope=col>windspeed</th><th scope=col>registered_users</th><th scope=col>total_rental_bike</th></tr>\n",
       "\t<tr><th></th><th scope=col>&lt;int&gt;</th><th scope=col>&lt;int&gt;</th><th scope=col>&lt;int&gt;</th><th scope=col>&lt;int&gt;</th><th scope=col>&lt;int&gt;</th><th scope=col>&lt;int&gt;</th><th scope=col>&lt;dbl&gt;</th><th scope=col>&lt;dbl&gt;</th><th scope=col>&lt;dbl&gt;</th><th scope=col>&lt;dbl&gt;</th><th scope=col>&lt;int&gt;</th><th scope=col>&lt;int&gt;</th></tr>\n",
       "</thead>\n",
       "<tbody>\n",
       "\t<tr><th scope=row>1</th><td>1</td><td>0</td><td>0</td><td>6</td><td>0</td><td>2</td><td>0.344167</td><td>0.363625</td><td>0.805833</td><td>0.1604460</td><td> 654</td><td> 985</td></tr>\n",
       "\t<tr><th scope=row>2</th><td>1</td><td>0</td><td>0</td><td>0</td><td>0</td><td>2</td><td>0.363478</td><td>0.353739</td><td>0.696087</td><td>0.2485390</td><td> 670</td><td> 801</td></tr>\n",
       "\t<tr><th scope=row>3</th><td>1</td><td>0</td><td>0</td><td>1</td><td>1</td><td>1</td><td>0.196364</td><td>0.189405</td><td>0.437273</td><td>0.2483090</td><td>1229</td><td>1349</td></tr>\n",
       "\t<tr><th scope=row>4</th><td>1</td><td>0</td><td>0</td><td>2</td><td>1</td><td>1</td><td>0.200000</td><td>0.212122</td><td>0.590435</td><td>0.1602960</td><td>1454</td><td>1562</td></tr>\n",
       "\t<tr><th scope=row>5</th><td>1</td><td>0</td><td>0</td><td>3</td><td>1</td><td>1</td><td>0.226957</td><td>0.229270</td><td>0.436957</td><td>0.1869000</td><td>1518</td><td>1600</td></tr>\n",
       "\t<tr><th scope=row>6</th><td>1</td><td>0</td><td>0</td><td>4</td><td>1</td><td>1</td><td>0.204348</td><td>0.233209</td><td>0.518261</td><td>0.0895652</td><td>1518</td><td>1606</td></tr>\n",
       "</tbody>\n",
       "</table>\n"
      ],
      "text/latex": [
       "A data.frame: 6 × 12\n",
       "\\begin{tabular}{r|llllllllllll}\n",
       "  & season & year & holiday & weekday & workingday & weathersit & temp & feeling\\_temp & humidity & windspeed & registered\\_users & total\\_rental\\_bike\\\\\n",
       "  & <int> & <int> & <int> & <int> & <int> & <int> & <dbl> & <dbl> & <dbl> & <dbl> & <int> & <int>\\\\\n",
       "\\hline\n",
       "\t1 & 1 & 0 & 0 & 6 & 0 & 2 & 0.344167 & 0.363625 & 0.805833 & 0.1604460 &  654 &  985\\\\\n",
       "\t2 & 1 & 0 & 0 & 0 & 0 & 2 & 0.363478 & 0.353739 & 0.696087 & 0.2485390 &  670 &  801\\\\\n",
       "\t3 & 1 & 0 & 0 & 1 & 1 & 1 & 0.196364 & 0.189405 & 0.437273 & 0.2483090 & 1229 & 1349\\\\\n",
       "\t4 & 1 & 0 & 0 & 2 & 1 & 1 & 0.200000 & 0.212122 & 0.590435 & 0.1602960 & 1454 & 1562\\\\\n",
       "\t5 & 1 & 0 & 0 & 3 & 1 & 1 & 0.226957 & 0.229270 & 0.436957 & 0.1869000 & 1518 & 1600\\\\\n",
       "\t6 & 1 & 0 & 0 & 4 & 1 & 1 & 0.204348 & 0.233209 & 0.518261 & 0.0895652 & 1518 & 1606\\\\\n",
       "\\end{tabular}\n"
      ],
      "text/markdown": [
       "\n",
       "A data.frame: 6 × 12\n",
       "\n",
       "| <!--/--> | season &lt;int&gt; | year &lt;int&gt; | holiday &lt;int&gt; | weekday &lt;int&gt; | workingday &lt;int&gt; | weathersit &lt;int&gt; | temp &lt;dbl&gt; | feeling_temp &lt;dbl&gt; | humidity &lt;dbl&gt; | windspeed &lt;dbl&gt; | registered_users &lt;int&gt; | total_rental_bike &lt;int&gt; |\n",
       "|---|---|---|---|---|---|---|---|---|---|---|---|---|\n",
       "| 1 | 1 | 0 | 0 | 6 | 0 | 2 | 0.344167 | 0.363625 | 0.805833 | 0.1604460 |  654 |  985 |\n",
       "| 2 | 1 | 0 | 0 | 0 | 0 | 2 | 0.363478 | 0.353739 | 0.696087 | 0.2485390 |  670 |  801 |\n",
       "| 3 | 1 | 0 | 0 | 1 | 1 | 1 | 0.196364 | 0.189405 | 0.437273 | 0.2483090 | 1229 | 1349 |\n",
       "| 4 | 1 | 0 | 0 | 2 | 1 | 1 | 0.200000 | 0.212122 | 0.590435 | 0.1602960 | 1454 | 1562 |\n",
       "| 5 | 1 | 0 | 0 | 3 | 1 | 1 | 0.226957 | 0.229270 | 0.436957 | 0.1869000 | 1518 | 1600 |\n",
       "| 6 | 1 | 0 | 0 | 4 | 1 | 1 | 0.204348 | 0.233209 | 0.518261 | 0.0895652 | 1518 | 1606 |\n",
       "\n"
      ],
      "text/plain": [
       "  season year holiday weekday workingday weathersit temp     feeling_temp\n",
       "1 1      0    0       6       0          2          0.344167 0.363625    \n",
       "2 1      0    0       0       0          2          0.363478 0.353739    \n",
       "3 1      0    0       1       1          1          0.196364 0.189405    \n",
       "4 1      0    0       2       1          1          0.200000 0.212122    \n",
       "5 1      0    0       3       1          1          0.226957 0.229270    \n",
       "6 1      0    0       4       1          1          0.204348 0.233209    \n",
       "  humidity windspeed registered_users total_rental_bike\n",
       "1 0.805833 0.1604460  654              985             \n",
       "2 0.696087 0.2485390  670              801             \n",
       "3 0.437273 0.2483090 1229             1349             \n",
       "4 0.590435 0.1602960 1454             1562             \n",
       "5 0.436957 0.1869000 1518             1600             \n",
       "6 0.518261 0.0895652 1518             1606             "
      ]
     },
     "metadata": {},
     "output_type": "display_data"
    }
   ],
   "source": [
    "#step 2  Remove the irrelevant variables \n",
    "bike_dat_step2<- select (bike_dat,-c(dteday,casual,mnth)) \n",
    "head(bike_dat_step2)\n"
   ]
  },
  {
   "cell_type": "code",
   "execution_count": 5,
   "id": "1dc01c0a-4988-48da-a89d-41269f5323a1",
   "metadata": {
    "tags": []
   },
   "outputs": [],
   "source": [
    "#step 4 Examine ther correlation \n",
    "options(repr.plot.height = 17, repr.plot.width = 17)\n",
    "step1_ggpair_plot <- bike_dat_step2 %>%\n",
    "  ggpairs(progress = FALSE) +\n",
    "  theme(\n",
    "    text = element_text(size = 15),\n",
    "    plot.title = element_text(face = \"bold\"),\n",
    "    axis.title = element_text(face = \"bold\")\n",
    "  )\n",
    "\n"
   ]
  },
  {
   "cell_type": "markdown",
   "id": "0ce76aae-1e9e-4294-ba2c-9223da1f8cc4",
   "metadata": {
    "tags": []
   },
   "source": [
    "The correlation table reveals a strong correlation between `temp` and `feeling_temp`, as well as between `registered_users` and `total_rental_bike`. Both of these correlations exceed 0.9. Since `total_rental_bike` is the sum of casual and registered users and cannot be served as an explanatory variable, it will be removed from the dataset. "
   ]
  },
  {
   "cell_type": "code",
   "execution_count": 6,
   "id": "73df3412-93c7-4a0a-a36f-6f75199b8eeb",
   "metadata": {
    "tags": []
   },
   "outputs": [],
   "source": [
    "#step 4 Examine ther correlation and remove the variables\n",
    "bike_dat_step4 <- select(bike_dat_step2,-c(temp,total_rental_bike,weekday,weathersit)) "
   ]
  },
  {
   "cell_type": "markdown",
   "id": "f4afd3e7-ed5d-470c-9973-71dc735fc132",
   "metadata": {},
   "source": [
    "##  4.  Visualization"
   ]
  },
  {
   "cell_type": "code",
   "execution_count": 7,
   "id": "58034a91-2e47-4ad3-9319-616a618e0d69",
   "metadata": {
    "tags": []
   },
   "outputs": [],
   "source": [
    "options(repr.plot.height = 10, repr.plot.width = 10)\n",
    "\n",
    "user_ggpair_plot <- bike_dat_step4 %>%\n",
    "  ggpairs(progress = FALSE) +\n",
    "  theme(\n",
    "    text = element_text(size = 15),\n",
    "    plot.title = element_text(face = \"bold\"),\n",
    "    axis.title = element_text(face = \"bold\")\n",
    "  )\n",
    "\n"
   ]
  },
  {
   "cell_type": "markdown",
   "id": "250d9c13-ea79-46a6-b4d3-9281fe212f35",
   "metadata": {},
   "source": [
    "Based on the visualization plot, we can observe that \"registered_user\" as the response variable exhibits correlations with several variables. Notably, it shows a positive correlation with \"season\" (approximately 0.412), \"workingday\" (0.304), and \"feeling_temp\" (0.544), while it has a negative correlation with \"windspeed\" (around -0.217). This suggests that the number of registered users tends to increase with higher feeling temperature and decrease as windspeed increase. Also, all four of these correlations exceed 0.1, which is a notable value and indicates that these variables are meaningful and should be considered as explanatory factors in our analysis.\n",
    "\n",
    "#### 1. season\n",
    " \"Season\" is a categorical variable with four levels, denoted by integers from 1 to 4, each signifying one of the four seasons. From the scatter plot in row 5, column 1, it indicates that there are more registered users in fall and winter compared to spring and summer.\n",
    " \n",
    "Additionally, we observe a 0.343 correlation between \"feeling_temp\" and \"season\". This correlation is logical as temperature changes with the seasons. Consequently, when fitting the model, it is necessary to consider these two variables to avoid multicollinearity. To determine the most suitable model, we plan to compare the model with both `season` and `feeling_temp` to models excluding one of these variables. We will assess their R-squared values to determine which model best fits the data. We can also assess their respective p-values in the original model to determine their significance.<br>\n",
    "\n",
    "\n",
    "#### 2. Working day\n",
    "\"Workingday\" is another categorical variable within the dataset. In this context, if a day is neither a weekend nor a holiday, it is assigned the value 1; otherwise, it is assigned the value 0. The scatter plot in row 5, column 2, suggests that more people register with the bike-sharing system on workdays. We initially represent this variable as an integer for creating more legible plots. However, before fitting the model, we will transform it into a factor type. "
   ]
  },
  {
   "cell_type": "markdown",
   "id": "c35ddaec-c0c8-40a3-af2d-6d354d210298",
   "metadata": {},
   "source": [
    "## 5. Method Part\n"
   ]
  },
  {
   "cell_type": "markdown",
   "id": "13eae2d2-8d49-4a5f-b7b2-30149307fc19",
   "metadata": {},
   "source": [
    "We will divide the entire dataset into two parts using `initial_split` function. The training dataset will be used for selecting variables for the regression model, while the testing dataset will be reserved for inference purposes. This method is used to avoid an increase in Type 1 error, which can occur if the same data sample is used for both variable selection and model fitting. Given that there are 731 observations in the dataset, we will split it using a proportion `(prop)` of 0.5. Consequently, the training and testing datasets will contain 364 and 367 observations respectively.\n",
    "\n",
    "Our dataset contains four explanatory variables, resulting in a total of 16 models. Therefore, to efficiently select our variables in the training dataset, we will apply the forward stepwise selection method. Once we have identified the optimal model in the training dataset, we will refit this model in the testing dataset.The forward selection process begins with the null model. At each step, a new variable is added to the current model, with the selection based on the greatest decrease in the residual sum of squares (RSS). Following this, we will identify the best models using a range of metrics for comprehensive evaluation.\n",
    "\n",
    "The forward stepwise selection method is implemented by function `regsubsets()` from library `leaps`.Within this function, the argument `x` is set to `registered_users ~.`, specifying our model where registered_users is the response variable and all other variables are potential predictors. The argument `nvmax` is set to `4`, denoting the maximum number of variables to be considered in the variable selection process. The argument `method` then set to `forward`. \n",
    "\n",
    "Since the objective of our research question is inferential, we will use the adjusted R-squared to select the most effective generative model. This metric is preferred as it compares the fit of estimated models of different sizes. Thus, we use  `which.max`  function to find the model with the maximum adjusted R-squared value from all the possible models. The `coef` function is then used to extract the corresponding variables of this model. After initially fitting the model using the selected variables in the training dataset, we proceed to refit this same model in the testing dataset for further inference. \n"
   ]
  },
  {
   "cell_type": "markdown",
   "id": "9df5ec99-1a24-42fc-89c7-2435f62c4d5c",
   "metadata": {},
   "source": [
    "#### Assumption:\n",
    "1. Linear: The relationship between the explanatory variables and the response variable should be linear.\n",
    "2. errors are independent\n",
    "3. conditional distribution of error terms is normal\n",
    "4. equal variance of error term\n",
    "5. No multicollinearity: No explanatory variables are correlated "
   ]
  },
  {
   "cell_type": "markdown",
   "id": "bf3c0bff-a80f-4929-8cb1-2f2afe433227",
   "metadata": {
    "jp-MarkdownHeadingCollapsed": true,
    "tags": []
   },
   "source": [
    "#### Advantages:\n",
    "1. use adjusted R squared as the evaluation metric, instead of R squared. This choice addresses a critical limitation of R-squared: its value increases with the addition of more variables to the model, due to the decrease in the residual sum of squares (RSS), regardless of whether these new variables significantly contribute to the model. Such a characteristic renders R-squared unsuitable for comparing nested models. The adjusted R-squared, on the other hand, is a refined version of R-squared that accounts for the number of predictors in the model, offering a more accurate assessment for our purposes.\n",
    "\n",
    "2. forward selection is easy to apply, objective and reproducible.Additionally, it can enhance the generalizability of the model.\n",
    "3. divide the dataset into training and testing sets. The training dataset will be used for selecting variables for the regression model, while the testing dataset will be reserved for inference purposes. This division is employed to prevent an increase in Type 1 error, which is a risk when the same data sample is used for both variable selection and model fitting. \n",
    "\n",
    "\n",
    "#### Limitation:\n",
    "One limitation of this method is the potential to miss the optimal model, as not all possible combinations of predictors are evaluated during the selection process. This is because the inclusion of a new variable might render an existing variable in the model non-significant. However, once a variable is included in the model, it cannot be removed, which might limit the ability to identify the truly optimal set of predictors."
   ]
  },
  {
   "cell_type": "markdown",
   "id": "b5a76eb9-c3c0-4974-a2d7-29a5e2c9829b",
   "metadata": {},
   "source": [
    "## 6. Implementation of a proposed model"
   ]
  },
  {
   "cell_type": "code",
   "execution_count": 6,
   "id": "7c17816f-31fd-4387-88ff-1b3b01524f66",
   "metadata": {
    "tags": []
   },
   "outputs": [
    {
     "data": {
      "text/html": [
       "<table class=\"dataframe\">\n",
       "<caption>A data.frame: 6 × 10</caption>\n",
       "<thead>\n",
       "\t<tr><th></th><th scope=col>year</th><th scope=col>holiday</th><th scope=col>workingday</th><th scope=col>feeling_temp</th><th scope=col>humidity</th><th scope=col>windspeed</th><th scope=col>registered_users</th><th scope=col>season_2</th><th scope=col>season_3</th><th scope=col>season_4</th></tr>\n",
       "\t<tr><th></th><th scope=col>&lt;int&gt;</th><th scope=col>&lt;int&gt;</th><th scope=col>&lt;int&gt;</th><th scope=col>&lt;dbl&gt;</th><th scope=col>&lt;dbl&gt;</th><th scope=col>&lt;dbl&gt;</th><th scope=col>&lt;int&gt;</th><th scope=col>&lt;int&gt;</th><th scope=col>&lt;int&gt;</th><th scope=col>&lt;int&gt;</th></tr>\n",
       "</thead>\n",
       "<tbody>\n",
       "\t<tr><th scope=row>1</th><td>0</td><td>0</td><td>0</td><td>0.363625</td><td>0.805833</td><td>0.1604460</td><td> 654</td><td>0</td><td>0</td><td>0</td></tr>\n",
       "\t<tr><th scope=row>2</th><td>0</td><td>0</td><td>0</td><td>0.353739</td><td>0.696087</td><td>0.2485390</td><td> 670</td><td>0</td><td>0</td><td>0</td></tr>\n",
       "\t<tr><th scope=row>3</th><td>0</td><td>0</td><td>1</td><td>0.189405</td><td>0.437273</td><td>0.2483090</td><td>1229</td><td>0</td><td>0</td><td>0</td></tr>\n",
       "\t<tr><th scope=row>4</th><td>0</td><td>0</td><td>1</td><td>0.212122</td><td>0.590435</td><td>0.1602960</td><td>1454</td><td>0</td><td>0</td><td>0</td></tr>\n",
       "\t<tr><th scope=row>5</th><td>0</td><td>0</td><td>1</td><td>0.229270</td><td>0.436957</td><td>0.1869000</td><td>1518</td><td>0</td><td>0</td><td>0</td></tr>\n",
       "\t<tr><th scope=row>6</th><td>0</td><td>0</td><td>1</td><td>0.233209</td><td>0.518261</td><td>0.0895652</td><td>1518</td><td>0</td><td>0</td><td>0</td></tr>\n",
       "</tbody>\n",
       "</table>\n"
      ],
      "text/latex": [
       "A data.frame: 6 × 10\n",
       "\\begin{tabular}{r|llllllllll}\n",
       "  & year & holiday & workingday & feeling\\_temp & humidity & windspeed & registered\\_users & season\\_2 & season\\_3 & season\\_4\\\\\n",
       "  & <int> & <int> & <int> & <dbl> & <dbl> & <dbl> & <int> & <int> & <int> & <int>\\\\\n",
       "\\hline\n",
       "\t1 & 0 & 0 & 0 & 0.363625 & 0.805833 & 0.1604460 &  654 & 0 & 0 & 0\\\\\n",
       "\t2 & 0 & 0 & 0 & 0.353739 & 0.696087 & 0.2485390 &  670 & 0 & 0 & 0\\\\\n",
       "\t3 & 0 & 0 & 1 & 0.189405 & 0.437273 & 0.2483090 & 1229 & 0 & 0 & 0\\\\\n",
       "\t4 & 0 & 0 & 1 & 0.212122 & 0.590435 & 0.1602960 & 1454 & 0 & 0 & 0\\\\\n",
       "\t5 & 0 & 0 & 1 & 0.229270 & 0.436957 & 0.1869000 & 1518 & 0 & 0 & 0\\\\\n",
       "\t6 & 0 & 0 & 1 & 0.233209 & 0.518261 & 0.0895652 & 1518 & 0 & 0 & 0\\\\\n",
       "\\end{tabular}\n"
      ],
      "text/markdown": [
       "\n",
       "A data.frame: 6 × 10\n",
       "\n",
       "| <!--/--> | year &lt;int&gt; | holiday &lt;int&gt; | workingday &lt;int&gt; | feeling_temp &lt;dbl&gt; | humidity &lt;dbl&gt; | windspeed &lt;dbl&gt; | registered_users &lt;int&gt; | season_2 &lt;int&gt; | season_3 &lt;int&gt; | season_4 &lt;int&gt; |\n",
       "|---|---|---|---|---|---|---|---|---|---|---|\n",
       "| 1 | 0 | 0 | 0 | 0.363625 | 0.805833 | 0.1604460 |  654 | 0 | 0 | 0 |\n",
       "| 2 | 0 | 0 | 0 | 0.353739 | 0.696087 | 0.2485390 |  670 | 0 | 0 | 0 |\n",
       "| 3 | 0 | 0 | 1 | 0.189405 | 0.437273 | 0.2483090 | 1229 | 0 | 0 | 0 |\n",
       "| 4 | 0 | 0 | 1 | 0.212122 | 0.590435 | 0.1602960 | 1454 | 0 | 0 | 0 |\n",
       "| 5 | 0 | 0 | 1 | 0.229270 | 0.436957 | 0.1869000 | 1518 | 0 | 0 | 0 |\n",
       "| 6 | 0 | 0 | 1 | 0.233209 | 0.518261 | 0.0895652 | 1518 | 0 | 0 | 0 |\n",
       "\n"
      ],
      "text/plain": [
       "  year holiday workingday feeling_temp humidity windspeed registered_users\n",
       "1 0    0       0          0.363625     0.805833 0.1604460  654            \n",
       "2 0    0       0          0.353739     0.696087 0.2485390  670            \n",
       "3 0    0       1          0.189405     0.437273 0.2483090 1229            \n",
       "4 0    0       1          0.212122     0.590435 0.1602960 1454            \n",
       "5 0    0       1          0.229270     0.436957 0.1869000 1518            \n",
       "6 0    0       1          0.233209     0.518261 0.0895652 1518            \n",
       "  season_2 season_3 season_4\n",
       "1 0        0        0       \n",
       "2 0        0        0       \n",
       "3 0        0        0       \n",
       "4 0        0        0       \n",
       "5 0        0        0       \n",
       "6 0        0        0       "
      ]
     },
     "metadata": {},
     "output_type": "display_data"
    }
   ],
   "source": [
    "bike_dat_step4$season <- as.factor(bike_dat_step4$season)\n",
    "#bike_dat_step4$weathersit <- as.factor(bike_dat_step4$weathersit)\n",
    "bike_dat_step4<-dummy_cols(bike_dat_step4, select_columns = c(\"season\"),remove_first_dummy = TRUE,remove_selected_columns = TRUE)\n",
    "\n",
    "head(bike_dat_step4)"
   ]
  },
  {
   "cell_type": "code",
   "execution_count": 7,
   "id": "b2081158-d82a-404f-abaf-493104f35cef",
   "metadata": {
    "tags": []
   },
   "outputs": [],
   "source": [
    "set.seed(98005)\n",
    "bike_split <- initial_split(bike_dat_step4, prop = 0.5, strata = registered_users)\n",
    "training_df <- training(bike_split)\n",
    "testing_df <- testing(bike_split)"
   ]
  },
  {
   "cell_type": "code",
   "execution_count": 10,
   "id": "e63d4ff0-2201-4bb0-a803-761ea17c42b9",
   "metadata": {
    "tags": []
   },
   "outputs": [],
   "source": [
    "bike_sel <- regsubsets(\n",
    "  x = registered_users ~., nvmax = 9,\n",
    "  data = training_df,\n",
    "  method = \"forward\",\n",
    ")"
   ]
  },
  {
   "cell_type": "code",
   "execution_count": 11,
   "id": "9576c1c8-8388-4b65-bc97-03c59f2f381f",
   "metadata": {
    "tags": []
   },
   "outputs": [],
   "source": [
    "\n",
    "bike_forward_summary <- summary(bike_sel)\n",
    "bike_forward_summary_df <- tibble(\n",
    "    n_input_variables = 1:9,\n",
    "    RSQ = bike_forward_summary$rsq,\n",
    "    RSS = bike_forward_summary$rss,\n",
    "    ADJ.R2 = bike_forward_summary$adjr2,\n",
    "    Cp = bike_forward_summary$cp,\n",
    "    BIC = bike_forward_summary$bic,\n",
    ")\n",
    "\n",
    "ar_max = which.max(bike_forward_summary$adjr2) \n",
    "selected_var <- names(coef(bike_sel, ar_max))[-1]"
   ]
  },
  {
   "cell_type": "code",
   "execution_count": 12,
   "id": "2be16b2e-afba-4ae8-af41-1dedb0c40245",
   "metadata": {
    "tags": []
   },
   "outputs": [
    {
     "name": "stderr",
     "output_type": "stream",
     "text": [
      "Warning message:\n",
      "“\u001b[1m\u001b[22mUsing an external vector in selections was deprecated in tidyselect 1.1.0.\n",
      "\u001b[36mℹ\u001b[39m Please use `all_of()` or `any_of()` instead.\n",
      "  # Was:\n",
      "  data %>% select(selected_var)\n",
      "\n",
      "  # Now:\n",
      "  data %>% select(all_of(selected_var))\n",
      "\n",
      "See <https://tidyselect.r-lib.org/reference/faq-external-vector.html>.”\n"
     ]
    },
    {
     "data": {
      "text/plain": [
       "\n",
       "Call:\n",
       "lm(formula = registered_users ~ year + holiday + workingday + \n",
       "    feeling_temp + humidity + windspeed + season_2 + season_3 + \n",
       "    season_4, data = testing_subset)\n",
       "\n",
       "Residuals:\n",
       "     Min       1Q   Median       3Q      Max \n",
       "-2681.77  -345.14    73.67   411.58  1752.45 \n",
       "\n",
       "Coefficients:\n",
       "             Estimate Std. Error t value Pr(>|t|)    \n",
       "(Intercept)   1329.50     247.25   5.377 1.37e-07 ***\n",
       "year          1725.44      71.91  23.994  < 2e-16 ***\n",
       "holiday       -265.43     220.97  -1.201     0.23    \n",
       "workingday    1005.79      79.50  12.651  < 2e-16 ***\n",
       "feeling_temp  3885.56     364.32  10.665  < 2e-16 ***\n",
       "humidity     -2221.37     267.40  -8.307 2.06e-15 ***\n",
       "windspeed    -2076.14     476.34  -4.359 1.71e-05 ***\n",
       "season_2       768.48     126.61   6.069 3.28e-09 ***\n",
       "season_3       728.77     161.71   4.507 8.94e-06 ***\n",
       "season_4      1399.96     108.62  12.889  < 2e-16 ***\n",
       "---\n",
       "Signif. codes:  0 ‘***’ 0.001 ‘**’ 0.01 ‘*’ 0.05 ‘.’ 0.1 ‘ ’ 1\n",
       "\n",
       "Residual standard error: 664.2 on 357 degrees of freedom\n",
       "Multiple R-squared:  0.8256,\tAdjusted R-squared:  0.8212 \n",
       "F-statistic: 187.8 on 9 and 357 DF,  p-value: < 2.2e-16\n"
      ]
     },
     "metadata": {},
     "output_type": "display_data"
    }
   ],
   "source": [
    "set.seed(98005)\n",
    "training_subset <- training_df %>% select(selected_var,registered_users)\n",
    "testing_subset <- testing_df %>% select(selected_var,registered_users)\n",
    "bike_ls <- lm(registered_users ~ .,data = training_subset)\n",
    "csm <- update(bike_ls, registered_users~., data = testing_subset)\n",
    "\n",
    "summary(csm)"
   ]
  },
  {
   "cell_type": "markdown",
   "id": "e93d20a7-5445-4fed-a51e-ae56bea446e6",
   "metadata": {},
   "source": [
    "Through the process of forward selection, variables year, holiday, working day, feeling temperature, humidity, wind speed, and season were selected in our model. Despite the p-value for \"holiday\" exceeding the 5% significance threshold, it has been retained in the model based on the forward selection criteria, as other parameter coefficients demonstrate significance. The adjusted R-squared of the inference model is 0.8212, suggests that the model fits testing data very well. "
   ]
  }
 ],
 "metadata": {
  "kernelspec": {
   "display_name": "R",
   "language": "R",
   "name": "ir"
  },
  "language_info": {
   "codemirror_mode": "r",
   "file_extension": ".r",
   "mimetype": "text/x-r-source",
   "name": "R",
   "pygments_lexer": "r",
   "version": "4.2.3"
  }
 },
 "nbformat": 4,
 "nbformat_minor": 5
}
